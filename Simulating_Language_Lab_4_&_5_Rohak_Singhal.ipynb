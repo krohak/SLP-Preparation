{
  "nbformat": 4,
  "nbformat_minor": 0,
  "metadata": {
    "colab": {
      "provenance": []
    },
    "kernelspec": {
      "name": "python3",
      "display_name": "Python 3"
    },
    "language_info": {
      "name": "python"
    }
  },
  "cells": [
    {
      "cell_type": "code",
      "source": [
        "import pandas as pd\n",
        "import numpy as np\n",
        "%matplotlib inline\n",
        "import matplotlib.pyplot as plt"
      ],
      "metadata": {
        "id": "yEr487Ivwr8L"
      },
      "execution_count": null,
      "outputs": []
    },
    {
      "cell_type": "code",
      "execution_count": null,
      "metadata": {
        "id": "IXz6U7EWv1_X"
      },
      "outputs": [],
      "source": [
        "production_matrix = [\n",
        "                      [1, 2, 0],\n",
        "                      [0, 1, 1],\n",
        "                      [0, 3, 4]\n",
        "]\n",
        "reception_matrix = [\n",
        "                      [1, 0, 0],\n",
        "                      [2, 1, 3],\n",
        "                      [0, 1, 4]\n",
        "]\n"
      ]
    },
    {
      "cell_type": "code",
      "source": [
        "def simulateCommunication(production_matrix, reception_matrix, trials=1000):\n",
        "  production_matrix, reception_matrix, wins = pd.DataFrame(production_matrix), pd.DataFrame(reception_matrix), 0\n",
        "  for _ in range(trials):\n",
        "    message_p = np.random.randint(3)\n",
        "    signal = np.random.choice(np.flatnonzero(production_matrix[message_p] == production_matrix[message_p].max()))\n",
        "    message_c = np.random.choice(np.flatnonzero(reception_matrix[signal] == reception_matrix[signal].max()))\n",
        "    if message_p == message_c:\n",
        "      wins+=1\n",
        "  return wins / trials"
      ],
      "metadata": {
        "id": "LtNxB9tbzDnf"
      },
      "execution_count": null,
      "outputs": []
    },
    {
      "cell_type": "code",
      "source": [
        "simulateCommunication(production_matrix, reception_matrix)"
      ],
      "metadata": {
        "colab": {
          "base_uri": "https://localhost:8080/"
        },
        "id": "-ePs-lVHzoQi",
        "outputId": "67a53dd1-d6b7-463c-a4cd-ae87a7008238"
      },
      "execution_count": null,
      "outputs": [
        {
          "output_type": "execute_result",
          "data": {
            "text/plain": [
              "0.722"
            ]
          },
          "metadata": {},
          "execution_count": 20
        }
      ]
    },
    {
      "cell_type": "code",
      "source": [
        "production_matrix = [\n",
        "            [1, 0, 0],\n",
        "            [0, 1, 0],\n",
        "            [0, 1, 1]\n",
        "]\n",
        "\n",
        "reception_matrix = [\n",
        "            [1, 0, 0],\n",
        "            [0, 1, 1],\n",
        "            [0, 0, 1]\n",
        "]"
      ],
      "metadata": {
        "id": "k6PiR2jRzp_2"
      },
      "execution_count": null,
      "outputs": []
    },
    {
      "cell_type": "code",
      "source": [
        "simulateCommunication(production_matrix, reception_matrix)"
      ],
      "metadata": {
        "colab": {
          "base_uri": "https://localhost:8080/"
        },
        "id": "hwhdQdu1qHF9",
        "outputId": "ac0ed532-7e6e-45ad-b560-b8340ff47885"
      },
      "execution_count": null,
      "outputs": [
        {
          "output_type": "execute_result",
          "data": {
            "text/plain": [
              "0.745"
            ]
          },
          "metadata": {},
          "execution_count": 22
        }
      ]
    },
    {
      "cell_type": "code",
      "source": [
        "end_result = []\n",
        "for n in range(10):\n",
        "    result = simulateCommunication(production_matrix, reception_matrix, 100)\n",
        "    end_result.append(result)"
      ],
      "metadata": {
        "id": "vRc6bTgFqKsx"
      },
      "execution_count": null,
      "outputs": []
    },
    {
      "cell_type": "code",
      "source": [
        "plt.hist(end_result)\n",
        "plt.xlabel('communicative accuracy')\n",
        "plt.xlim([0, 1])"
      ],
      "metadata": {
        "colab": {
          "base_uri": "https://localhost:8080/",
          "height": 466
        },
        "id": "tsueTVNxqwEa",
        "outputId": "c63b251a-7379-4906-fc9c-795e752ebb1c"
      },
      "execution_count": null,
      "outputs": [
        {
          "output_type": "execute_result",
          "data": {
            "text/plain": [
              "(0.0, 1.0)"
            ]
          },
          "metadata": {},
          "execution_count": 30
        },
        {
          "output_type": "display_data",
          "data": {
            "text/plain": [
              "<Figure size 640x480 with 1 Axes>"
            ],
            "image/png": "[encoded data removed]"
          },
          "metadata": {}
        }
      ]
    },
    {
      "cell_type": "code",
      "source": [],
      "metadata": {
        "id": "idsd_3eds466"
      },
      "execution_count": null,
      "outputs": []
    }
  ]
}